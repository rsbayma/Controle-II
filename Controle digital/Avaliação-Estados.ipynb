{
 "cells": [
  {
   "attachments": {},
   "cell_type": "markdown",
   "metadata": {},
   "source": [
    "# Trabalho avaliativo - Sistemas de controle II - 2023.2\n",
    "\n",
    "**Aluno: Edimar Fernandes Dias**\n",
    "\n",
    "**Matrícula: 201933940004**\n",
    "\n",
    "**Leia com atenção as instruções abaixo**"
   ]
  },
  {
   "attachments": {},
   "cell_type": "markdown",
   "metadata": {},
   "source": [
    "*Informe na célula de código abaixo o seu número de matrícula:* \n",
    "\n",
    "***Não remova as aspas***"
   ]
  },
  {
   "cell_type": "code",
   "execution_count": 42,
   "metadata": {},
   "outputs": [],
   "source": [
    "import control\n",
    "import matplotlib.pyplot as plt\n",
    "\n"
   ]
  },
  {
   "cell_type": "code",
   "execution_count": 43,
   "metadata": {},
   "outputs": [],
   "source": [
    "# Informe aqui sua matrícula\n",
    "mat = '201933940004'"
   ]
  },
  {
   "attachments": {},
   "cell_type": "markdown",
   "metadata": {},
   "source": [
    "*Depois de informar os dados, execute o arquivo inteiro. Caso ocorra algum erro, peça ajuda ao professor*\n",
    "\n",
    "*Resolva as questões abaixo, **justificando** todas as respostas. Utilize markdown para escrever texto e Python para fazer as contas. O trabalho é individual*"
   ]
  },
  {
   "cell_type": "code",
   "execution_count": 44,
   "metadata": {},
   "outputs": [],
   "source": [
    "# \n",
    "# Não modifique esta célula! Você pode comprometer a sua avaliação.\n",
    "from numpy.random import RandomState\n",
    "from IPython.display import display, Math\n",
    "from sympy import symbols, sin, cos, latex\n",
    "from sympy import ImmutableMatrix as matriz\n",
    "from numpy import arange\n",
    "\n",
    "_nn = int(mat[0:4]+mat[-2:])\n",
    "_rng = RandomState(_nn)\n",
    "#_dig = arange(-9,10)\n",
    "#_dig = _dig[_dig!=0]\n",
    "#_n = _rng.randint(0,_dig.size,20)\n",
    "_n = _rng.random(size=(4,)).round(3)\n",
    "def G(): \n",
    "    s = symbols('s')\n",
    "    c = .5+0.10*_n[0]\n",
    "    d = .5+0.25*_n[1]\n",
    "    a = .2+0.15*_n[2]\n",
    "    b = 9+_n[3]\n",
    "    b0 = (b*c**2*d).round(3)\n",
    "    b1 = (a*b*c**2*d).round(3)\n",
    "    G = (b1*s+b0)/((s+c)**2*(s+d))\n",
    "    display(Math('G(s) = ' + latex(G)))"
   ]
  },
  {
   "attachments": {},
   "cell_type": "markdown",
   "metadata": {},
   "source": [
    "Função escrever.py, não conseguir importar então executei."
   ]
  },
  {
   "cell_type": "code",
   "execution_count": 45,
   "metadata": {},
   "outputs": [
    {
     "data": {
      "text/plain": [
       "'import numpy as np\\nn = np.random.randint(4,6)\\np = np.random.randint(1,4)\\nq = np.random.randint(1,4)\\n\\nA = np.random.randn(n,n)\\nB = np.random.randn(n,p)\\nC = np.random.randn(q,n)\\nD = np.random.randn(q,p)\\n\\nprint(dispss(A,B,C,D))'"
      ]
     },
     "execution_count": 45,
     "metadata": {},
     "output_type": "execute_result"
    }
   ],
   "source": [
    "from IPython.display import display, Math\n",
    "from numpy import sqrt, round\n",
    "#\n",
    "class escrever(object):\n",
    "  def __init__(self):\n",
    "     self.nome = None\n",
    "  \n",
    "  def mat(self,A):\n",
    "      cols = ''.join(['r']*A.shape[1])\n",
    "      str = r'\\left[\\begin{array}{' + cols + r'}'\n",
    "      (m,n) = A.shape\n",
    "      for i in range(m):\n",
    "        for j in range(n):\n",
    "          if j<n-1:\n",
    "            str += '{}'.format(A[i,j]) + '&'\n",
    "          else:\n",
    "            str += '{}'.format(A[i,j]) + r'\\\\'\n",
    "      return str + r'\\end{array}\\right]'\n",
    "\n",
    "  def polos(self,xi,wn,casas=4):\n",
    "    xi = round(xi,decimals=casas)\n",
    "    wn = round(wn,decimals=casas)\n",
    "    display(Math(r'\\xi = ' + f'{xi}'))\n",
    "    display(Math(r'\\omega_n = ' + f'{wn}'))\n",
    "    p = round(-xi*wn+1j*sqrt(1-xi**2),decimals=casas)\n",
    "    display(Math(r's = ' + f'{p}'))\n",
    "\n",
    "  def sist(self,A,B,C,D):\n",
    "      str1 = r'\\dot{\\mathbf{x}} = ' + self.mat(A) + r'\\mathbf{x}'\n",
    "      str1 += '+' + self.mat(B) + r'\\mathbf{u}'\n",
    "      str2 = r'\\mathbf{y} = ' + self.mat(C) + r'\\mathbf{x}'\n",
    "      str2 += ' + ' + self.mat(D) +  r'\\mathbf{u}'\n",
    "      display(Math(str1))\n",
    "      display(Math(str2))\n",
    "    \n",
    "\n",
    "\n",
    "'''import numpy as np\n",
    "n = np.random.randint(4,6)\n",
    "p = np.random.randint(1,4)\n",
    "q = np.random.randint(1,4)\n",
    "\n",
    "A = np.random.randn(n,n)\n",
    "B = np.random.randn(n,p)\n",
    "C = np.random.randn(q,n)\n",
    "D = np.random.randn(q,p)\n",
    "\n",
    "print(dispss(A,B,C,D))'''\n"
   ]
  },
  {
   "attachments": {},
   "cell_type": "markdown",
   "metadata": {},
   "source": [
    "## 1."
   ]
  },
  {
   "attachments": {},
   "cell_type": "markdown",
   "metadata": {},
   "source": [
    "*Considere o sistema:*"
   ]
  },
  {
   "cell_type": "code",
   "execution_count": 46,
   "metadata": {},
   "outputs": [
    {
     "data": {
      "text/latex": [
       "$\\displaystyle G(s) = \\frac{0.417 s + 1.854}{\\left(s + 0.5695\\right) \\left(s + 0.5758\\right)^{2}}$"
      ],
      "text/plain": [
       "<IPython.core.display.Math object>"
      ]
     },
     "metadata": {},
     "output_type": "display_data"
    }
   ],
   "source": [
    "G()"
   ]
  },
  {
   "attachments": {},
   "cell_type": "markdown",
   "metadata": {},
   "source": [
    "1. *Faça uma análise de malha aberta: verifique estabilidade e características de resposta ao degrau unitário (25%). Opcional: analise o que aconteceria caso fosse utilizada realimentação proporcional (+10% extra)*"
   ]
  },
  {
   "attachments": {},
   "cell_type": "markdown",
   "metadata": {},
   "source": [
    "A função de transferência G(s) é dada por:\n",
    "\n",
    "$$G(s) = \\frac{0.417s + 1854}{(s + 0.5695)(s + 0.5758)^2}$$\n",
    "\n",
    "Os polos estão localizados em s = -0.5695 e s = -0.5758. Ambos os polos têm parte real negativa, o que indica que o sistema é estável.\n",
    "\n",
    "Portanto, com base na localização dos polos, podemos concluir que o sistema representado por essa função de transferência é estável.\n"
   ]
  },
  {
   "attachments": {},
   "cell_type": "markdown",
   "metadata": {},
   "source": [
    "Para verificar as características de resposta ao degrau unitário, podemos calcular a resposta em regime permanente.\n",
    "\n",
    "temos a função de trasnferencia:\n",
    "\n",
    "$$G(s) = \\frac{0.417s + 1854}{(s + 0.5695)(s + 0.5758)^2}$$\n",
    "\n",
    "Multiplicando a função de transferência G(s) pela transformada de Laplace da entrada degrau unitário, obtemos a resposta em Laplace:\n",
    "\n",
    "$$Y(s)=G(s)⋅U(s)$$\n",
    "\n",
    "Substituindo os valores:\n",
    "\n",
    "$$G(s) = \\frac{0.417s + 1854}{(s + 0.5695)(s + 0.5758)^2}*{\\frac{1}{s}}$$\n",
    "\n",
    "Simplificado essa expressão:\n",
    "\n",
    "$$Y(s) = \\frac{0.417s + 1854}{s(s+0.5695)(s+0.5758)^2}$$\n"
   ]
  },
  {
   "attachments": {},
   "cell_type": "markdown",
   "metadata": {},
   "source": [
    "\n",
    "Agora, podemos realizar a decomposição em frações parciais para expressar Y(s) de forma mais conveniente.\n",
    "\n",
    "No entanto, devido à complexidade dos cálculos envolvidos na decomposição em frações parciais, usarei python para realizar essa análise e obter a resposta ao degrau unitário completa do sistema pelo menos tentarei né ^^.\n"
   ]
  },
  {
   "attachments": {},
   "cell_type": "markdown",
   "metadata": {},
   "source": [
    "Resposta ao degrau unitário ao longo do tempo."
   ]
  },
  {
   "cell_type": "code",
   "execution_count": 48,
   "metadata": {},
   "outputs": [
    {
     "name": "stdout",
     "output_type": "stream",
     "text": [
      "O sistema é estável\n"
     ]
    },
    {
     "data": {
      "image/png": "[encoded data removed]",
      "text/plain": [
       "<Figure size 640x480 with 1 Axes>"
      ]
     },
     "metadata": {},
     "output_type": "display_data"
    }
   ],
   "source": [
    "G = (0.417*s + 1854) / ((s + 0.5695)*(s + 0.5758)**2)\n",
    "# Define a função de transferência\n",
    "num = [0.417, 1854]\n",
    "den = [1, 1.7209, 0.6627]\n",
    "G = control.TransferFunction(num, den)\n",
    "\n",
    "# Verifica a estabilidade do sistema\n",
    "poles = control.pole(G)\n",
    "if all(poles.real < 0):\n",
    "    print(\"O sistema é estável\")\n",
    "else:\n",
    "    print(\"O sistema é instável\")\n",
    "\n",
    "# Obtém a resposta ao degrau unitário\n",
    "t, y = control.step_response(G)\n",
    "\n",
    "# Plota a resposta ao degrau unitário\n",
    "plt.plot(t, y)\n",
    "plt.xlabel('Tempo (s)')\n",
    "plt.ylabel('Amplitude')\n",
    "plt.title('Resposta ao Degrau Unitário')\n",
    "plt.show()"
   ]
  },
  {
   "attachments": {},
   "cell_type": "markdown",
   "metadata": {},
   "source": [
    "Se fosse utilizada realimentação proporcional:"
   ]
  },
  {
   "attachments": {},
   "cell_type": "markdown",
   "metadata": {},
   "source": [
    "A equação da função de transferência em malha fechada com realimentação proporcional pode ser obtida através da fórmula padrão para sistemas em malha fechada com realimentação negativa:\n",
    "\n",
    "$$G_c(s) = \\frac{G(s)}{1 + K_p G(s)}$$"
   ]
  },
  {
   "attachments": {},
   "cell_type": "markdown",
   "metadata": {},
   "source": [
    "Substituindo a função de transferência fornecida na fórmula acima, temos:\n",
    "\n",
    "$$G_c(s) = \\frac{\\frac{0.417s + 1854}{(s + 0.5695)(s + 0.5758)^2}}{1 + K_p \\frac{0.417s + 1854}{(s + 0.5695)(s + 0.5758)^2}}$$\n",
    "\n",
    "Simplificando a equação, obtemos:"
   ]
  },
  {
   "attachments": {},
   "cell_type": "markdown",
   "metadata": {},
   "source": [
    "\n",
    "$$G_{\\text{prop}}(s) = \\frac{K_p(0.417s + 1854)}{(s + 0.5695)(s + 0.5758)^2 + K_p(0.417s + 1854)}$$\n",
    "\n",
    "Onde Kp é o ganho proporcional. A estabilidade do sistema dependeria do valor de Kp. Se Kp for muito grande, o sistema pode se tornar instável. Se Kp for muito pequeno, o sistema pode não ser capaz de seguir a entrada adequadamente."
   ]
  },
  {
   "attachments": {},
   "cell_type": "markdown",
   "metadata": {},
   "source": [
    "Para\n",
    "\n",
    "$$ kp = 0.1$$\n"
   ]
  },
  {
   "attachments": {},
   "cell_type": "markdown",
   "metadata": {},
   "source": [
    "O valor de Kp = 0.1 significa que a realimentação proporcional terá uma intensidade igual a um décimo do sinal de erro. Isso pode afetar a estabilidade e as características de resposta do sistema em malha fechada."
   ]
  },
  {
   "cell_type": "code",
   "execution_count": 51,
   "metadata": {},
   "outputs": [
    {
     "name": "stdout",
     "output_type": "stream",
     "text": [
      "O sistema é estável\n"
     ]
    },
    {
     "data": {
      "image/png": "[encoded data removed]",
      "text/plain": [
       "<Figure size 640x480 with 1 Axes>"
      ]
     },
     "metadata": {},
     "output_type": "display_data"
    }
   ],
   "source": [
    "# Define o ganho proporcional\n",
    "Kp = 0.1\n",
    "\n",
    "# Obtém a função de transferência em malha fechada\n",
    "Gc = control.feedback(G * Kp)\n",
    "\n",
    "# Verifica a estabilidade do sistema\n",
    "poles = control.pole(Gc)\n",
    "if all(poles.real < 0):\n",
    "    print(\"O sistema é estável\")\n",
    "else:\n",
    "    print(\"O sistema é instável\")\n",
    "\n",
    "# Obtém a resposta ao degrau unitário\n",
    "t, y = control.step_response(Gc)\n",
    "\n",
    "# Plota a resposta ao degrau unitário\n",
    "plt.plot(t, y)\n",
    "plt.xlabel('Tempo (s)')\n",
    "plt.ylabel('Amplitude')\n",
    "plt.title('Resposta ao Degrau Unitário')\n",
    "plt.show()"
   ]
  },
  {
   "attachments": {},
   "cell_type": "markdown",
   "metadata": {},
   "source": [
    "A realimentação proporcional introduzida no sistema com realimentação afeta a resposta do sistema, permitindo ajustar sua estabilidade, velocidade de resposta e outras características. Comparando com o sistema sem realimentação, a resposta ao degrau unitário com realimentação proporcional pode apresentar uma redução no tempo de estabilização, uma resposta mais suave e controlada, ou outras melhorias, dependendo do valor escolhido para o ganho proporcional (Kp). A escolha adequada de Kp é importante e deve ser baseada nas especificações e requisitos do sistema. O gráfico da resposta ao degrau unitário permite visualizar essas diferenças e avaliar o efeito da realimentação proporcional."
   ]
  },
  {
   "attachments": {},
   "cell_type": "markdown",
   "metadata": {},
   "source": [
    "2. *Proponha especificações de desempenho em malha fechada com base na análise de malha aberta do item 1 (20%).*"
   ]
  },
  {
   "attachments": {},
   "cell_type": "markdown",
   "metadata": {},
   "source": [
    "Com base na análise de malha aberta do item 1, vamos propor algumas especificações de desempenho em malha fechada para o projeto de um compensador de estados de ordem completa. \n"
   ]
  },
  {
   "attachments": {},
   "cell_type": "markdown",
   "metadata": {},
   "source": [
    "- Tempo de Subida *(TR): 0.1 segundos*\n",
    "- Tempo de Acomodação *(Ts) = 2 segundos*\n",
    "- Sobressinal *(OS) = 5%*\n",
    "- Erro em regime permanente *(SSE) = 0*"
   ]
  },
  {
   "attachments": {},
   "cell_type": "markdown",
   "metadata": {},
   "source": [
    "3. *Projete um compensador de estados de ordem completa, de acordo com as especificações estabelecidas no item 2 e também forneça rejeição à distúrbios do tipo degrau. Justifique as escolhas de todos os pólos e apresente as funções de transferência do compensador ao final (35%).*"
   ]
  },
  {
   "attachments": {},
   "cell_type": "markdown",
   "metadata": {},
   "source": [
    "Sistema de segunda ordem com função de transferência G(s) = 0,417s + 1854 / (s + 0,5695) (s + 0,5758) ^ 2. para as especificações determinadas no intem 2, vamos projetar o compensador de estados de ordem completa."
   ]
  },
  {
   "cell_type": "code",
   "execution_count": 11,
   "metadata": {},
   "outputs": [],
   "source": [
    "# Imports\n",
    "import numpy as np\n",
    "import control as ct\n",
    "from IPython.display import display, Math\n",
    "esc = escrever()"
   ]
  },
  {
   "cell_type": "code",
   "execution_count": 12,
   "metadata": {},
   "outputs": [
    {
     "data": {
      "text/latex": [
       "$\\displaystyle \\dot{\\mathbf{x}} = \\left[\\begin{array}{rr}-1.7209&-0.6627\\\\1.0&0.0\\\\\\end{array}\\right]\\mathbf{x}+\\left[\\begin{array}{r}1.0\\\\0.0\\\\\\end{array}\\right]\\mathbf{u}$"
      ],
      "text/plain": [
       "<IPython.core.display.Math object>"
      ]
     },
     "metadata": {},
     "output_type": "display_data"
    },
    {
     "data": {
      "text/latex": [
       "$\\displaystyle \\mathbf{y} = \\left[\\begin{array}{rr}0.417&1854.0\\\\\\end{array}\\right]\\mathbf{x} + \\left[\\begin{array}{r}0.0\\\\\\end{array}\\right]\\mathbf{u}$"
      ],
      "text/plain": [
       "<IPython.core.display.Math object>"
      ]
     },
     "metadata": {},
     "output_type": "display_data"
    }
   ],
   "source": [
    "# Declara o sistema\n",
    "A = np.array([[-1.7209, -0.6627],\n",
    "              [1., 0.]])\n",
    "B = np.array([[1.],\n",
    "              [0.]])\n",
    "C = np.array([[0.417, 1854]])\n",
    "D = np.array([[0.]])\n",
    "esc.sist(A,B,C,D)\n"
   ]
  },
  {
   "attachments": {},
   "cell_type": "markdown",
   "metadata": {},
   "source": [
    "Com base nas especificações e na faixa de coeficiente de amortecimento que determinamos no intem II, podemos escolher um polo complexo conjugado com uma taxa de amortecimento de 0.6. \n",
    "Vamos considerar o polo complexo conjugado na forma geral: \n",
    "\n",
    "$$s = -\\zeta\\omega_n \\pm j\\omega_n\\sqrt{1-\\zeta^2}$$\n",
    "\n",
    "Onde:\n",
    "\n",
    "- $\\zeta$ é o coeficiente de amortecimento\n",
    "$$\\zeta = 0.6$$\n",
    "- $\\omega_n$ é a frequência natural não amortecida\n",
    "\n",
    "$$\\omega_n = 0.5695$$\n",
    "Dado que o coeficiente de amortecimento é 0.6, podemos calcular a frequência natural não amortecida com base no denominador da função de transferência fornecida:\n",
    "\n",
    "$$(s + 0.5695)(s + 0.5758)^2$$\n",
    "\n",
    "Da forma geral, sabemos que os polos complexos conjugados serão da forma $\\zeta\\omega_n \\pm j\\omega_n\\sqrt{1-\\zeta^2}$. Portanto, podemos comparar com o denominador para encontrar o valor de $\\omega_n$. No denominador, temos os termos $s + 0.5695$ e $s + 0.5758$ repetidos, o que indica que a frequência natural não amortecida é $\\omega_n = 0.5695$ ou $\\omega_n = 0.5758$.\n",
    "\n",
    "Agora, podemos calcular o valor do polo complexo conjugado com o coeficiente de amortecimento de 0.6:\n",
    "\n",
    "$$s = -0.6 \\times 0.5695 \\pm j \\times 0.5695 \\times \\sqrt{1-0.6^2}$$\n",
    "\n",
    "Calculando, obtemos:\n",
    "\n",
    "$$s = -0.3417 \\pm j \\times 0.4553$$\n",
    "\n",
    "Portanto, uma escolha de polo complexo conjugado com uma taxa de amortecimento de 0.6 seria:\n",
    "\n",
    "$$s = -0.3417 + j \\times 0.4553$$\n",
    "\n",
    "Esse polo atenderá às especificações do projeto com uma taxa de amortecimento de: 0.6."
   ]
  },
  {
   "attachments": {},
   "cell_type": "markdown",
   "metadata": {},
   "source": [
    "Alocando os polos do regulador"
   ]
  },
  {
   "cell_type": "code",
   "execution_count": 13,
   "metadata": {},
   "outputs": [
    {
     "data": {
      "text/latex": [
       "$\\displaystyle \\mathbf{K} = \\left[\\begin{array}{rr}-1.0375&-0.3386\\\\\\end{array}\\right]$"
      ],
      "text/plain": [
       "<IPython.core.display.Math object>"
      ]
     },
     "metadata": {},
     "output_type": "display_data"
    }
   ],
   "source": [
    "# Aloca os polos do regulador\n",
    "pr = -0.3417+0.4553j\n",
    "K = ct.acker(A,B,[pr,np.conj(pr)])\n",
    "display(Math(r'\\mathbf{K} = ' + esc.mat(K.round(decimals=4))))"
   ]
  },
  {
   "attachments": {},
   "cell_type": "markdown",
   "metadata": {},
   "source": [
    "Vetor de ganho K negativo, isso indica que a variável de estado resultará em uma ação de controle oposta para compensar o desvio. "
   ]
  },
  {
   "cell_type": "code",
   "execution_count": 17,
   "metadata": {},
   "outputs": [
    {
     "data": {
      "text/plain": [
       "0.00017478801510248114"
      ]
     },
     "execution_count": 17,
     "metadata": {},
     "output_type": "execute_result"
    }
   ],
   "source": [
    "# Introdução de referência simples\n",
    "N = 1/(C @ np.linalg.inv(B@K-A) @ B)[0,0]\n",
    "N"
   ]
  },
  {
   "attachments": {},
   "cell_type": "markdown",
   "metadata": {},
   "source": [
    "O valor obtido, 0.00017478801510248114, é o ganho de realimentação de referência necessário para introduzir uma referência de entrada constante no sistema de controle em malha fechada."
   ]
  },
  {
   "attachments": {},
   "cell_type": "markdown",
   "metadata": {},
   "source": [
    "Isso significa que, ao aplicar uma referência de entrada desejada, você precisa multiplicar essa referência pelo valor 0.00017478801510248114 para ajustar corretamente o sistema e obter a resposta desejada em regime permanente."
   ]
  },
  {
   "attachments": {},
   "cell_type": "markdown",
   "metadata": {},
   "source": [
    "Calculando a matriz de ganho do observador"
   ]
  },
  {
   "attachments": {},
   "cell_type": "markdown",
   "metadata": {},
   "source": [
    "determinamos: $\\omega_n = 0.5695$, $\\zeta = 0.6$\n"
   ]
  },
  {
   "cell_type": "code",
   "execution_count": 24,
   "metadata": {},
   "outputs": [
    {
     "data": {
      "text/latex": [
       "$\\displaystyle \\mathbf{L} = \\left[\\begin{array}{r}0.0008\\\\-0.0006\\\\\\end{array}\\right]$"
      ],
      "text/plain": [
       "<IPython.core.display.Math object>"
      ]
     },
     "metadata": {},
     "output_type": "display_data"
    }
   ],
   "source": [
    "# Projeto do observador\n",
    "wn = 0.5695\n",
    "xi = 0.6\n",
    "po = -xi*wn + 1j * wn*np.sqrt(1-xi**2)\n",
    "L = ct.acker(A.T, C.T, [po , np.conj(po)]).T\n",
    "display(Math(r'\\mathbf{L} = ' + esc.mat(L.round(4))))"
   ]
  },
  {
   "cell_type": "code",
   "execution_count": 25,
   "metadata": {},
   "outputs": [
    {
     "data": {
      "text/latex": [
       "$\\displaystyle \\dot{\\mathbf{x}} = \\left[\\begin{array}{rr}-0.6837&-1.7715\\\\1.0002&1.0378\\\\\\end{array}\\right]\\mathbf{x}+\\left[\\begin{array}{rr}0.0008&0.0002\\\\-0.0006&0.0\\\\\\end{array}\\right]\\mathbf{u}$"
      ],
      "text/plain": [
       "<IPython.core.display.Math object>"
      ]
     },
     "metadata": {},
     "output_type": "display_data"
    },
    {
     "data": {
      "text/latex": [
       "$\\displaystyle \\mathbf{y} = \\left[\\begin{array}{rr}1.0375&0.3386\\\\\\end{array}\\right]\\mathbf{x} + \\left[\\begin{array}{rr}0.0&0.00017478801510248114\\\\\\end{array}\\right]\\mathbf{u}$"
      ],
      "text/plain": [
       "<IPython.core.display.Math object>"
      ]
     },
     "metadata": {},
     "output_type": "display_data"
    }
   ],
   "source": [
    "# Compensador no espaço de estados\n",
    "Acomp = A - B@K - L@C\n",
    "Bcomp = np.block([ L , B*N ])\n",
    "Ccomp = -K\n",
    "Dcomp = np.array([[0,N]])\n",
    "esc.sist(Acomp.round(4),Bcomp.round(4),Ccomp.round(4),Dcomp)"
   ]
  },
  {
   "attachments": {},
   "cell_type": "markdown",
   "metadata": {},
   "source": [
    "Agora, vamos adicionar as matrizes para rejeição de distúrbios do tipo degrau:"
   ]
  },
  {
   "cell_type": "code",
   "execution_count": 37,
   "metadata": {},
   "outputs": [],
   "source": [
    "Gcomp = control.StateSpace(Acomp, Bcomp, Ccomp, Dcomp)\n",
    "Gcomp_d = control.append(Gcomp, sys_tf)"
   ]
  },
  {
   "attachments": {},
   "cell_type": "markdown",
   "metadata": {},
   "source": [
    "Função de transferencia do compensador:"
   ]
  },
  {
   "cell_type": "code",
   "execution_count": 40,
   "metadata": {},
   "outputs": [
    {
     "data": {
      "text/latex": [
       "$$\\frac{0.0006204 s + 0.000323}{s^2 - 0.3541 s + 1.062}$$"
      ],
      "text/plain": [
       "TransferFunction(array([0.00062044, 0.00032304]), array([ 1.       , -0.3541   ,  1.0623522]))"
      ]
     },
     "metadata": {},
     "output_type": "display_data"
    },
    {
     "data": {
      "text/latex": [
       "$$\\frac{0.0001748 s^2 + 0.0001195 s + 5.669 \\times 10^{-5}}{s^2 - 0.3541 s + 1.062}$$"
      ],
      "text/plain": [
       "TransferFunction(array([1.74788015e-04, 1.19450130e-04, 5.66890406e-05]), array([ 1.       , -0.3541   ,  1.0623522]))"
      ]
     },
     "metadata": {},
     "output_type": "display_data"
    }
   ],
   "source": [
    "# Funções de transf. do compensador\n",
    "comp_uy = ct.ss(Acomp, Bcomp[:,0], Ccomp, Dcomp[:,0])\n",
    "C1 = (ct.tf(comp_uy))\n",
    "comp_ur = ct.ss(Acomp, Bcomp[:,1], Ccomp, Dcomp[:,1])\n",
    "C2 = (ct.tf(comp_ur))\n",
    "display(C1)\n",
    "display(C2)"
   ]
  },
  {
   "attachments": {},
   "cell_type": "markdown",
   "metadata": {},
   "source": [
    "4. *Analise e simule o sistema em malha fechada. Plote e analise os sinais de saída e de controle (20%). Opcional: faça uma análise de resposta a uma perturbação (+10% extra)*"
   ]
  },
  {
   "attachments": {},
   "cell_type": "markdown",
   "metadata": {},
   "source": [
    "Agora vamos simular o sistema em malha, plotar e analisar o sinal de saida e controle."
   ]
  },
  {
   "cell_type": "code",
   "execution_count": 41,
   "metadata": {},
   "outputs": [],
   "source": [
    "# Sistema em malha fechada\n",
    "Amf = np.block([[     A, -B@K   ],\n",
    "                [   L@C, A-B@K-L@C]])\n",
    "\n",
    "Bmf = np.block([[B*N],\n",
    "                [B*N]])\n",
    "\n",
    "Cmf = np.block([C, np.zeros(C.shape)])\n",
    "Dmf = 0\n",
    "mf = ct.ss(Amf,Bmf,Cmf,Dmf)"
   ]
  },
  {
   "cell_type": "code",
   "execution_count": 42,
   "metadata": {},
   "outputs": [
    {
     "name": "stdout",
     "output_type": "stream",
     "text": [
      "_____Eigenvalue______ Damping___ Frequency_\n",
      "   -0.3417   +0.4556j        0.6     0.5695\n",
      "   -0.3417   -0.4556j        0.6     0.5695\n",
      "   -0.3417   +0.4553j     0.6003     0.5693\n",
      "   -0.3417   -0.4553j     0.6003     0.5693\n"
     ]
    }
   ],
   "source": [
    "# Pólos de MF\n",
    "tab = ct.damp(mf)"
   ]
  },
  {
   "attachments": {},
   "cell_type": "markdown",
   "metadata": {},
   "source": [
    "Determina os zeros de transmissão do sistema em malha fechada."
   ]
  },
  {
   "cell_type": "code",
   "execution_count": 46,
   "metadata": {},
   "outputs": [
    {
     "data": {
      "text/plain": [
       "array([-3.41700000e-01+0.4556j, -3.41700000e-01-0.4556j,\n",
       "       -4.44604317e+03+0.j    ])"
      ]
     },
     "execution_count": 46,
     "metadata": {},
     "output_type": "execute_result"
    }
   ],
   "source": [
    "# Zeros de transmissão\n",
    "ct.zeros(mf)"
   ]
  },
  {
   "cell_type": "code",
   "execution_count": 47,
   "metadata": {},
   "outputs": [],
   "source": [
    "# Simulação em MF, resposta ao degrau unitário\n",
    "resp = ct.step_response(mf,16)"
   ]
  },
  {
   "cell_type": "code",
   "execution_count": 2,
   "metadata": {},
   "outputs": [
    {
     "ename": "NameError",
     "evalue": "name 'np' is not defined",
     "output_type": "error",
     "traceback": [
      "\u001b[0;31m---------------------------------------------------------------------------\u001b[0m",
      "\u001b[0;31mNameError\u001b[0m                                 Traceback (most recent call last)",
      "Cell \u001b[0;32mIn[2], line 2\u001b[0m\n\u001b[1;32m      1\u001b[0m \u001b[39m# Encontra o índice do instante de tempo em que a resposta ultrapassa 90%\u001b[39;00m\n\u001b[0;32m----> 2\u001b[0m idx \u001b[39m=\u001b[39m np\u001b[39m.\u001b[39margmax(resp\u001b[39m.\u001b[39moutputs \u001b[39m>\u001b[39m \u001b[39m0.9\u001b[39m \u001b[39m*\u001b[39m np\u001b[39m.\u001b[39mmax(resp\u001b[39m.\u001b[39moutputs))\n\u001b[1;32m      4\u001b[0m \u001b[39m# Calcula o tempo de subida em segundos\u001b[39;00m\n\u001b[1;32m      5\u001b[0m tr \u001b[39m=\u001b[39m resp\u001b[39m.\u001b[39mt[idx]\n",
      "\u001b[0;31mNameError\u001b[0m: name 'np' is not defined"
     ]
    }
   ],
   "source": [
    "# Encontra o índice do instante de tempo em que a resposta ultrapassa 90%\n",
    "idx = np.argmax(resp.outputs > 0.9 * np.max(resp.outputs))\n",
    "\n",
    "# Calcula o tempo de subida em segundos\n",
    "tr = resp.t[idx]\n"
   ]
  },
  {
   "attachments": {},
   "cell_type": "markdown",
   "metadata": {},
   "source": [
    "Calculo do sinal de controle simulado."
   ]
  },
  {
   "cell_type": "code",
   "execution_count": 48,
   "metadata": {},
   "outputs": [],
   "source": [
    "# Calcula o sinal de controle simulado\n",
    "u = (-K@resp.states[2:,:])+N*np.ones(resp.t.shape)"
   ]
  },
  {
   "cell_type": "code",
   "execution_count": 49,
   "metadata": {},
   "outputs": [
    {
     "data": {
      "image/png": "[encoded data removed]",
      "text/plain": [
       "<Figure size 1400x600 with 2 Axes>"
      ]
     },
     "metadata": {},
     "output_type": "display_data"
    }
   ],
   "source": [
    "# Plotagem da resposta\n",
    "import matplotlib.pyplot as plt\n",
    "# Plotagem da saída\n",
    "plt.figure(figsize=(14,6))\n",
    "plt.subplot(211)\n",
    "plt.plot(resp.t,resp.outputs)\n",
    "plt.xlabel('Tempo (seg)')\n",
    "plt.ylabel('Saída da planta')\n",
    "plt.title('Resposta ao degrau unitário')\n",
    "plt.grid()\n",
    "# Calcula e plota o sinal de controle\n",
    "plt.subplot(212)\n",
    "plt.plot(resp.t,u.T)\n",
    "plt.xlabel('Tempo (seg)')\n",
    "plt.ylabel('Sinal de controle')\n",
    "plt.grid()"
   ]
  },
  {
   "attachments": {},
   "cell_type": "markdown",
   "metadata": {},
   "source": [
    "A resposta ao degrau unitário da saída da planta mostra como o sistema responde a uma entrada degrau, atingindo seu valor final de forma estável. O sinal de controle correspondente mostra a ação de controle aplicada para manter a saída do sistema em um valor desejado.\n",
    "\n",
    "Essa análise é útil para avaliar o desempenho do sistema controlado e verificar se as especificações estabelecidas foram atendidas."
   ]
  }
 ],
 "metadata": {
  "kernelspec": {
   "display_name": "Python 3 (ipykernel)",
   "language": "python",
   "name": "python3"
  },
  "language_info": {
   "codemirror_mode": {
    "name": "ipython",
    "version": 3
   },
   "file_extension": ".py",
   "mimetype": "text/x-python",
   "name": "python",
   "nbconvert_exporter": "python",
   "pygments_lexer": "ipython3",
   "version": "3.10.4"
  },
  "orig_nbformat": 4,
  "vscode": {
   "interpreter": {
    "hash": "3e3763a57b4ffe0d06e963ec4b7f8ef3a748cbfdb342037439726ee83e94c05b"
   }
  }
 },
 "nbformat": 4,
 "nbformat_minor": 2
}
